{
 "cells": [
  {
   "cell_type": "code",
   "execution_count": 1,
   "id": "2764c380",
   "metadata": {},
   "outputs": [],
   "source": [
    "import pandas as pd\n",
    "import numpy as np\n",
    "\n",
    "pd.set_option('display.max_rows', None)\n",
    "pd.set_option('display.max_columns', None)\n",
    "\n",
    "import pylab as plt\n",
    "import seaborn as sns\n",
    "\n",
    "import warnings\n",
    "warnings.filterwarnings('ignore')"
   ]
  },
  {
   "cell_type": "code",
   "execution_count": 2,
   "id": "882108c1",
   "metadata": {},
   "outputs": [],
   "source": [
    "salaries = pd.read_csv('../data/salaries_data.csv')\n",
    "testeo = pd.read_csv('../data/testeo.csv')\n",
    "muestra = pd.read_csv('../data/muestra.csv')"
   ]
  },
  {
   "cell_type": "code",
   "execution_count": 3,
   "id": "473bcdf1",
   "metadata": {},
   "outputs": [
    {
     "data": {
      "text/plain": [
       "((500, 11), (107, 8))"
      ]
     },
     "execution_count": 3,
     "metadata": {},
     "output_type": "execute_result"
    }
   ],
   "source": [
    "salaries.shape, testeo.shape"
   ]
  },
  {
   "cell_type": "code",
   "execution_count": 4,
   "id": "099f976a",
   "metadata": {},
   "outputs": [],
   "source": [
    "df = pd.concat([salaries, testeo])"
   ]
  },
  {
   "cell_type": "code",
   "execution_count": 5,
   "id": "7ceb1f48",
   "metadata": {},
   "outputs": [
    {
     "data": {
      "text/html": [
       "<div>\n",
       "<style scoped>\n",
       "    .dataframe tbody tr th:only-of-type {\n",
       "        vertical-align: middle;\n",
       "    }\n",
       "\n",
       "    .dataframe tbody tr th {\n",
       "        vertical-align: top;\n",
       "    }\n",
       "\n",
       "    .dataframe thead th {\n",
       "        text-align: right;\n",
       "    }\n",
       "</style>\n",
       "<table border=\"1\" class=\"dataframe\">\n",
       "  <thead>\n",
       "    <tr style=\"text-align: right;\">\n",
       "      <th></th>\n",
       "      <th>work_year</th>\n",
       "      <th>experience_level</th>\n",
       "      <th>employment_type</th>\n",
       "      <th>job_title</th>\n",
       "      <th>salary</th>\n",
       "      <th>salary_currency</th>\n",
       "      <th>salary_in_usd</th>\n",
       "      <th>employee_residence</th>\n",
       "      <th>remote_ratio</th>\n",
       "      <th>company_location</th>\n",
       "      <th>company_size</th>\n",
       "    </tr>\n",
       "  </thead>\n",
       "  <tbody>\n",
       "    <tr>\n",
       "      <th>102</th>\n",
       "      <td>2022</td>\n",
       "      <td>SE</td>\n",
       "      <td>FT</td>\n",
       "      <td>Data Analyst</td>\n",
       "      <td>NaN</td>\n",
       "      <td>NaN</td>\n",
       "      <td>NaN</td>\n",
       "      <td>US</td>\n",
       "      <td>100</td>\n",
       "      <td>US</td>\n",
       "      <td>M</td>\n",
       "    </tr>\n",
       "    <tr>\n",
       "      <th>103</th>\n",
       "      <td>2022</td>\n",
       "      <td>SE</td>\n",
       "      <td>FT</td>\n",
       "      <td>Data Architect</td>\n",
       "      <td>NaN</td>\n",
       "      <td>NaN</td>\n",
       "      <td>NaN</td>\n",
       "      <td>US</td>\n",
       "      <td>100</td>\n",
       "      <td>US</td>\n",
       "      <td>M</td>\n",
       "    </tr>\n",
       "    <tr>\n",
       "      <th>104</th>\n",
       "      <td>2022</td>\n",
       "      <td>SE</td>\n",
       "      <td>FT</td>\n",
       "      <td>Data Scientist</td>\n",
       "      <td>NaN</td>\n",
       "      <td>NaN</td>\n",
       "      <td>NaN</td>\n",
       "      <td>US</td>\n",
       "      <td>100</td>\n",
       "      <td>US</td>\n",
       "      <td>M</td>\n",
       "    </tr>\n",
       "    <tr>\n",
       "      <th>105</th>\n",
       "      <td>2022</td>\n",
       "      <td>EN</td>\n",
       "      <td>FT</td>\n",
       "      <td>Data Analyst</td>\n",
       "      <td>NaN</td>\n",
       "      <td>NaN</td>\n",
       "      <td>NaN</td>\n",
       "      <td>CA</td>\n",
       "      <td>0</td>\n",
       "      <td>CA</td>\n",
       "      <td>M</td>\n",
       "    </tr>\n",
       "    <tr>\n",
       "      <th>106</th>\n",
       "      <td>2022</td>\n",
       "      <td>SE</td>\n",
       "      <td>FT</td>\n",
       "      <td>Data Analyst</td>\n",
       "      <td>NaN</td>\n",
       "      <td>NaN</td>\n",
       "      <td>NaN</td>\n",
       "      <td>US</td>\n",
       "      <td>0</td>\n",
       "      <td>US</td>\n",
       "      <td>M</td>\n",
       "    </tr>\n",
       "  </tbody>\n",
       "</table>\n",
       "</div>"
      ],
      "text/plain": [
       "     work_year experience_level employment_type       job_title  salary  \\\n",
       "102       2022               SE              FT    Data Analyst     NaN   \n",
       "103       2022               SE              FT  Data Architect     NaN   \n",
       "104       2022               SE              FT  Data Scientist     NaN   \n",
       "105       2022               EN              FT    Data Analyst     NaN   \n",
       "106       2022               SE              FT    Data Analyst     NaN   \n",
       "\n",
       "    salary_currency  salary_in_usd employee_residence  remote_ratio  \\\n",
       "102             NaN            NaN                 US           100   \n",
       "103             NaN            NaN                 US           100   \n",
       "104             NaN            NaN                 US           100   \n",
       "105             NaN            NaN                 CA             0   \n",
       "106             NaN            NaN                 US             0   \n",
       "\n",
       "    company_location company_size  \n",
       "102               US            M  \n",
       "103               US            M  \n",
       "104               US            M  \n",
       "105               CA            M  \n",
       "106               US            M  "
      ]
     },
     "execution_count": 5,
     "metadata": {},
     "output_type": "execute_result"
    }
   ],
   "source": [
    "df.tail()"
   ]
  },
  {
   "cell_type": "code",
   "execution_count": 6,
   "id": "d1744e49",
   "metadata": {},
   "outputs": [],
   "source": [
    "continent = []\n",
    "\n",
    "for e in salaries.salary_currency:\n",
    "    if e == 'USD':\n",
    "        continent.append('AME')\n",
    "    if e == 'EUR':\n",
    "        continent.append('EUR')\n",
    "    if e == 'INR':\n",
    "        continent.append('ASI')\n",
    "    if e == 'GBP':\n",
    "        continent.append('EUR')\n",
    "    if e == 'JPY':\n",
    "        continent.append('ASI')\n",
    "    if e == 'CAD':\n",
    "        continent.append('AME')\n",
    "    if e == 'MXN':\n",
    "        continent.append('LTM')\n",
    "    if e == 'CHF':\n",
    "        continent.append('EUR')\n",
    "    if e == 'CLP':\n",
    "        continent.append('LTM')\n",
    "    if e == 'TRY':\n",
    "        continent.append('ASI')\n",
    "    if e == 'AUD':\n",
    "        continent.append('AUS')\n",
    "    if e == 'BRL':\n",
    "        continent.append('LTM')\n",
    "    if e == 'HUF':\n",
    "        continent.append('EUR')\n",
    "    if e == 'PLN':\n",
    "        continent.append('EUR')\n",
    "    if e == 'SGD':\n",
    "        continent.append('ASI')\n",
    "    \n",
    "    "
   ]
  },
  {
   "cell_type": "code",
   "execution_count": 7,
   "id": "6032654a",
   "metadata": {},
   "outputs": [],
   "source": [
    "salaries['Continent'] = continent"
   ]
  },
  {
   "cell_type": "code",
   "execution_count": 8,
   "id": "ce6b961f",
   "metadata": {},
   "outputs": [],
   "source": [
    "dictio_typ = {'PT':0, 'FL':1, 'FT':2, 'CT':3}\n",
    "salaries.employment_type = salaries.employment_type.apply(lambda x: dictio_typ[x])"
   ]
  },
  {
   "cell_type": "code",
   "execution_count": 9,
   "id": "587d00bb",
   "metadata": {},
   "outputs": [
    {
     "data": {
      "text/html": [
       "<div>\n",
       "<style scoped>\n",
       "    .dataframe tbody tr th:only-of-type {\n",
       "        vertical-align: middle;\n",
       "    }\n",
       "\n",
       "    .dataframe tbody tr th {\n",
       "        vertical-align: top;\n",
       "    }\n",
       "\n",
       "    .dataframe thead th {\n",
       "        text-align: right;\n",
       "    }\n",
       "</style>\n",
       "<table border=\"1\" class=\"dataframe\">\n",
       "  <thead>\n",
       "    <tr style=\"text-align: right;\">\n",
       "      <th></th>\n",
       "      <th>work_year</th>\n",
       "      <th>experience_level</th>\n",
       "      <th>employment_type</th>\n",
       "      <th>job_title</th>\n",
       "      <th>salary</th>\n",
       "      <th>salary_currency</th>\n",
       "      <th>salary_in_usd</th>\n",
       "      <th>employee_residence</th>\n",
       "      <th>remote_ratio</th>\n",
       "      <th>company_location</th>\n",
       "      <th>company_size</th>\n",
       "      <th>Continent</th>\n",
       "    </tr>\n",
       "  </thead>\n",
       "  <tbody>\n",
       "    <tr>\n",
       "      <th>0</th>\n",
       "      <td>2022</td>\n",
       "      <td>SE</td>\n",
       "      <td>2</td>\n",
       "      <td>Data Engineer</td>\n",
       "      <td>140250</td>\n",
       "      <td>4</td>\n",
       "      <td>140250</td>\n",
       "      <td>US</td>\n",
       "      <td>100</td>\n",
       "      <td>US</td>\n",
       "      <td>M</td>\n",
       "      <td>AME</td>\n",
       "    </tr>\n",
       "    <tr>\n",
       "      <th>1</th>\n",
       "      <td>2022</td>\n",
       "      <td>SE</td>\n",
       "      <td>2</td>\n",
       "      <td>Data Engineer</td>\n",
       "      <td>135000</td>\n",
       "      <td>4</td>\n",
       "      <td>135000</td>\n",
       "      <td>US</td>\n",
       "      <td>100</td>\n",
       "      <td>US</td>\n",
       "      <td>M</td>\n",
       "      <td>AME</td>\n",
       "    </tr>\n",
       "    <tr>\n",
       "      <th>2</th>\n",
       "      <td>2021</td>\n",
       "      <td>MI</td>\n",
       "      <td>2</td>\n",
       "      <td>BI Data Analyst</td>\n",
       "      <td>100000</td>\n",
       "      <td>4</td>\n",
       "      <td>100000</td>\n",
       "      <td>US</td>\n",
       "      <td>100</td>\n",
       "      <td>US</td>\n",
       "      <td>M</td>\n",
       "      <td>AME</td>\n",
       "    </tr>\n",
       "    <tr>\n",
       "      <th>3</th>\n",
       "      <td>2021</td>\n",
       "      <td>MI</td>\n",
       "      <td>3</td>\n",
       "      <td>ML Engineer</td>\n",
       "      <td>270000</td>\n",
       "      <td>4</td>\n",
       "      <td>270000</td>\n",
       "      <td>US</td>\n",
       "      <td>100</td>\n",
       "      <td>US</td>\n",
       "      <td>L</td>\n",
       "      <td>AME</td>\n",
       "    </tr>\n",
       "    <tr>\n",
       "      <th>4</th>\n",
       "      <td>2021</td>\n",
       "      <td>MI</td>\n",
       "      <td>2</td>\n",
       "      <td>Data Engineer</td>\n",
       "      <td>22000</td>\n",
       "      <td>2</td>\n",
       "      <td>26005</td>\n",
       "      <td>RO</td>\n",
       "      <td>0</td>\n",
       "      <td>US</td>\n",
       "      <td>L</td>\n",
       "      <td>EUR</td>\n",
       "    </tr>\n",
       "  </tbody>\n",
       "</table>\n",
       "</div>"
      ],
      "text/plain": [
       "   work_year experience_level  employment_type        job_title  salary  \\\n",
       "0       2022               SE                2    Data Engineer  140250   \n",
       "1       2022               SE                2    Data Engineer  135000   \n",
       "2       2021               MI                2  BI Data Analyst  100000   \n",
       "3       2021               MI                3      ML Engineer  270000   \n",
       "4       2021               MI                2    Data Engineer   22000   \n",
       "\n",
       "   salary_currency  salary_in_usd employee_residence  remote_ratio  \\\n",
       "0                4         140250                 US           100   \n",
       "1                4         135000                 US           100   \n",
       "2                4         100000                 US           100   \n",
       "3                4         270000                 US           100   \n",
       "4                2          26005                 RO             0   \n",
       "\n",
       "  company_location company_size Continent  \n",
       "0               US            M       AME  \n",
       "1               US            M       AME  \n",
       "2               US            M       AME  \n",
       "3               US            L       AME  \n",
       "4               US            L       EUR  "
      ]
     },
     "execution_count": 9,
     "metadata": {},
     "output_type": "execute_result"
    }
   ],
   "source": [
    "dictio_curr = {'USD': 4, 'EUR': 2, 'INR': 1, 'GBP': 2, 'JPY': 2, 'CAD': 4, 'MXN':0, 'CHF':2, 'CLP':0, 'TRY':1, 'AUD':3, 'BRL':0, 'HUF':2, 'PLN':2, 'SGD':1}\n",
    "\n",
    "salaries.salary_currency = salaries.salary_currency.apply(lambda x: dictio_curr[x])\n",
    "\n",
    "salaries.head()"
   ]
  },
  {
   "cell_type": "code",
   "execution_count": 10,
   "id": "c5a4973f",
   "metadata": {},
   "outputs": [
    {
     "data": {
      "text/html": [
       "<div>\n",
       "<style scoped>\n",
       "    .dataframe tbody tr th:only-of-type {\n",
       "        vertical-align: middle;\n",
       "    }\n",
       "\n",
       "    .dataframe tbody tr th {\n",
       "        vertical-align: top;\n",
       "    }\n",
       "\n",
       "    .dataframe thead th {\n",
       "        text-align: right;\n",
       "    }\n",
       "</style>\n",
       "<table border=\"1\" class=\"dataframe\">\n",
       "  <thead>\n",
       "    <tr style=\"text-align: right;\">\n",
       "      <th></th>\n",
       "      <th>work_year</th>\n",
       "      <th>experience_level</th>\n",
       "      <th>employment_type</th>\n",
       "      <th>job_title</th>\n",
       "      <th>salary</th>\n",
       "      <th>salary_currency</th>\n",
       "      <th>salary_in_usd</th>\n",
       "      <th>employee_residence</th>\n",
       "      <th>remote_ratio</th>\n",
       "      <th>company_location</th>\n",
       "      <th>company_size</th>\n",
       "      <th>Continent</th>\n",
       "    </tr>\n",
       "  </thead>\n",
       "  <tbody>\n",
       "    <tr>\n",
       "      <th>0</th>\n",
       "      <td>2022</td>\n",
       "      <td>2</td>\n",
       "      <td>2</td>\n",
       "      <td>Data Engineer</td>\n",
       "      <td>140250</td>\n",
       "      <td>4</td>\n",
       "      <td>140250</td>\n",
       "      <td>US</td>\n",
       "      <td>100</td>\n",
       "      <td>US</td>\n",
       "      <td>M</td>\n",
       "      <td>AME</td>\n",
       "    </tr>\n",
       "    <tr>\n",
       "      <th>1</th>\n",
       "      <td>2022</td>\n",
       "      <td>2</td>\n",
       "      <td>2</td>\n",
       "      <td>Data Engineer</td>\n",
       "      <td>135000</td>\n",
       "      <td>4</td>\n",
       "      <td>135000</td>\n",
       "      <td>US</td>\n",
       "      <td>100</td>\n",
       "      <td>US</td>\n",
       "      <td>M</td>\n",
       "      <td>AME</td>\n",
       "    </tr>\n",
       "    <tr>\n",
       "      <th>2</th>\n",
       "      <td>2021</td>\n",
       "      <td>1</td>\n",
       "      <td>2</td>\n",
       "      <td>BI Data Analyst</td>\n",
       "      <td>100000</td>\n",
       "      <td>4</td>\n",
       "      <td>100000</td>\n",
       "      <td>US</td>\n",
       "      <td>100</td>\n",
       "      <td>US</td>\n",
       "      <td>M</td>\n",
       "      <td>AME</td>\n",
       "    </tr>\n",
       "    <tr>\n",
       "      <th>3</th>\n",
       "      <td>2021</td>\n",
       "      <td>1</td>\n",
       "      <td>3</td>\n",
       "      <td>ML Engineer</td>\n",
       "      <td>270000</td>\n",
       "      <td>4</td>\n",
       "      <td>270000</td>\n",
       "      <td>US</td>\n",
       "      <td>100</td>\n",
       "      <td>US</td>\n",
       "      <td>L</td>\n",
       "      <td>AME</td>\n",
       "    </tr>\n",
       "    <tr>\n",
       "      <th>4</th>\n",
       "      <td>2021</td>\n",
       "      <td>1</td>\n",
       "      <td>2</td>\n",
       "      <td>Data Engineer</td>\n",
       "      <td>22000</td>\n",
       "      <td>2</td>\n",
       "      <td>26005</td>\n",
       "      <td>RO</td>\n",
       "      <td>0</td>\n",
       "      <td>US</td>\n",
       "      <td>L</td>\n",
       "      <td>EUR</td>\n",
       "    </tr>\n",
       "  </tbody>\n",
       "</table>\n",
       "</div>"
      ],
      "text/plain": [
       "   work_year  experience_level  employment_type        job_title  salary  \\\n",
       "0       2022                 2                2    Data Engineer  140250   \n",
       "1       2022                 2                2    Data Engineer  135000   \n",
       "2       2021                 1                2  BI Data Analyst  100000   \n",
       "3       2021                 1                3      ML Engineer  270000   \n",
       "4       2021                 1                2    Data Engineer   22000   \n",
       "\n",
       "   salary_currency  salary_in_usd employee_residence  remote_ratio  \\\n",
       "0                4         140250                 US           100   \n",
       "1                4         135000                 US           100   \n",
       "2                4         100000                 US           100   \n",
       "3                4         270000                 US           100   \n",
       "4                2          26005                 RO             0   \n",
       "\n",
       "  company_location company_size Continent  \n",
       "0               US            M       AME  \n",
       "1               US            M       AME  \n",
       "2               US            M       AME  \n",
       "3               US            L       AME  \n",
       "4               US            L       EUR  "
      ]
     },
     "execution_count": 10,
     "metadata": {},
     "output_type": "execute_result"
    }
   ],
   "source": [
    "dictio = {'EN': 0, 'MI': 1, 'SE': 2, 'EX':3}\n",
    "\n",
    "\n",
    "salaries.experience_level = salaries.experience_level.apply(lambda x: dictio[x])\n",
    "\n",
    "salaries.head()"
   ]
  },
  {
   "cell_type": "code",
   "execution_count": 11,
   "id": "6e983d2a",
   "metadata": {},
   "outputs": [],
   "source": [
    "def job_title(data):\n",
    "    if 'Head' in data:\n",
    "        return 'Data_Head'\n",
    "    elif 'Director' in data:\n",
    "        return 'Data_Director'\n",
    "    elif 'Lead' in data:\n",
    "        return 'Data_Lead'\n",
    "    elif 'Principal' in data:\n",
    "        return 'Data_Princial'\n",
    "    else:\n",
    "        return 'Data_Other'"
   ]
  },
  {
   "cell_type": "code",
   "execution_count": 12,
   "id": "a5b83f88",
   "metadata": {},
   "outputs": [
    {
     "data": {
      "text/html": [
       "<div>\n",
       "<style scoped>\n",
       "    .dataframe tbody tr th:only-of-type {\n",
       "        vertical-align: middle;\n",
       "    }\n",
       "\n",
       "    .dataframe tbody tr th {\n",
       "        vertical-align: top;\n",
       "    }\n",
       "\n",
       "    .dataframe thead th {\n",
       "        text-align: right;\n",
       "    }\n",
       "</style>\n",
       "<table border=\"1\" class=\"dataframe\">\n",
       "  <thead>\n",
       "    <tr style=\"text-align: right;\">\n",
       "      <th></th>\n",
       "      <th>work_year</th>\n",
       "      <th>experience_level</th>\n",
       "      <th>employment_type</th>\n",
       "      <th>job_title</th>\n",
       "      <th>salary</th>\n",
       "      <th>salary_currency</th>\n",
       "      <th>salary_in_usd</th>\n",
       "      <th>employee_residence</th>\n",
       "      <th>remote_ratio</th>\n",
       "      <th>company_location</th>\n",
       "      <th>company_size</th>\n",
       "      <th>Continent</th>\n",
       "    </tr>\n",
       "  </thead>\n",
       "  <tbody>\n",
       "    <tr>\n",
       "      <th>0</th>\n",
       "      <td>2022</td>\n",
       "      <td>2</td>\n",
       "      <td>2</td>\n",
       "      <td>Data_Other</td>\n",
       "      <td>140250</td>\n",
       "      <td>4</td>\n",
       "      <td>140250</td>\n",
       "      <td>US</td>\n",
       "      <td>100</td>\n",
       "      <td>US</td>\n",
       "      <td>M</td>\n",
       "      <td>AME</td>\n",
       "    </tr>\n",
       "    <tr>\n",
       "      <th>1</th>\n",
       "      <td>2022</td>\n",
       "      <td>2</td>\n",
       "      <td>2</td>\n",
       "      <td>Data_Other</td>\n",
       "      <td>135000</td>\n",
       "      <td>4</td>\n",
       "      <td>135000</td>\n",
       "      <td>US</td>\n",
       "      <td>100</td>\n",
       "      <td>US</td>\n",
       "      <td>M</td>\n",
       "      <td>AME</td>\n",
       "    </tr>\n",
       "    <tr>\n",
       "      <th>2</th>\n",
       "      <td>2021</td>\n",
       "      <td>1</td>\n",
       "      <td>2</td>\n",
       "      <td>Data_Other</td>\n",
       "      <td>100000</td>\n",
       "      <td>4</td>\n",
       "      <td>100000</td>\n",
       "      <td>US</td>\n",
       "      <td>100</td>\n",
       "      <td>US</td>\n",
       "      <td>M</td>\n",
       "      <td>AME</td>\n",
       "    </tr>\n",
       "    <tr>\n",
       "      <th>3</th>\n",
       "      <td>2021</td>\n",
       "      <td>1</td>\n",
       "      <td>3</td>\n",
       "      <td>Data_Other</td>\n",
       "      <td>270000</td>\n",
       "      <td>4</td>\n",
       "      <td>270000</td>\n",
       "      <td>US</td>\n",
       "      <td>100</td>\n",
       "      <td>US</td>\n",
       "      <td>L</td>\n",
       "      <td>AME</td>\n",
       "    </tr>\n",
       "    <tr>\n",
       "      <th>4</th>\n",
       "      <td>2021</td>\n",
       "      <td>1</td>\n",
       "      <td>2</td>\n",
       "      <td>Data_Other</td>\n",
       "      <td>22000</td>\n",
       "      <td>2</td>\n",
       "      <td>26005</td>\n",
       "      <td>RO</td>\n",
       "      <td>0</td>\n",
       "      <td>US</td>\n",
       "      <td>L</td>\n",
       "      <td>EUR</td>\n",
       "    </tr>\n",
       "  </tbody>\n",
       "</table>\n",
       "</div>"
      ],
      "text/plain": [
       "   work_year  experience_level  employment_type   job_title  salary  \\\n",
       "0       2022                 2                2  Data_Other  140250   \n",
       "1       2022                 2                2  Data_Other  135000   \n",
       "2       2021                 1                2  Data_Other  100000   \n",
       "3       2021                 1                3  Data_Other  270000   \n",
       "4       2021                 1                2  Data_Other   22000   \n",
       "\n",
       "   salary_currency  salary_in_usd employee_residence  remote_ratio  \\\n",
       "0                4         140250                 US           100   \n",
       "1                4         135000                 US           100   \n",
       "2                4         100000                 US           100   \n",
       "3                4         270000                 US           100   \n",
       "4                2          26005                 RO             0   \n",
       "\n",
       "  company_location company_size Continent  \n",
       "0               US            M       AME  \n",
       "1               US            M       AME  \n",
       "2               US            M       AME  \n",
       "3               US            L       AME  \n",
       "4               US            L       EUR  "
      ]
     },
     "execution_count": 12,
     "metadata": {},
     "output_type": "execute_result"
    }
   ],
   "source": [
    "salaries.job_title = salaries.job_title.apply(job_title)\n",
    "\n",
    "salaries.head()"
   ]
  },
  {
   "cell_type": "code",
   "execution_count": 13,
   "id": "5d6bd422",
   "metadata": {},
   "outputs": [],
   "source": [
    "dictio_title = {'Data_Other': 0, 'Data_Head': 1, 'Data_Lead': 1, 'Data_Director': 2, 'Data_Princial': 3}\n",
    "\n",
    "\n",
    "salaries.job_title = salaries.job_title.apply(lambda x: dictio_title[x])"
   ]
  },
  {
   "cell_type": "code",
   "execution_count": 14,
   "id": "4be1dcfc",
   "metadata": {},
   "outputs": [],
   "source": [
    "salaries.drop(['Continent'], axis = 1, inplace = True)"
   ]
  },
  {
   "cell_type": "code",
   "execution_count": 15,
   "id": "f5aee232",
   "metadata": {},
   "outputs": [],
   "source": [
    "salaries.drop('salary', axis = 1, inplace = True)"
   ]
  },
  {
   "cell_type": "code",
   "execution_count": 16,
   "id": "ea890c70",
   "metadata": {},
   "outputs": [],
   "source": [
    "salaries.drop('employee_residence', axis = 1, inplace = True)"
   ]
  },
  {
   "cell_type": "code",
   "execution_count": 17,
   "id": "debe3b64",
   "metadata": {},
   "outputs": [],
   "source": [
    "dictio_comp_loc = {'US':'AME', 'GB':'EUR', 'CA':'AME', 'DE':'EUR', 'IN':'ASI', 'FR':'EUR', 'ES':'EUR', 'GR':'EUR', 'JP':'ASI', 'NL':'EUR', 'PT':'EUR', \n",
    "                   'LU':'EUR', 'AE':'ASI', 'AT':'EUR', 'PL':'EUR', 'PK':'ASI', 'TR':'ASI', 'CH':'EUR', 'AU':'AUS', 'BR':'LTM', 'NG':'AFR', 'SI':'EUR', \n",
    "                   'BE':'EUR', 'MT':'EUR', 'IR':'EUR', 'DZ':'AFR', 'HU':'EUR', 'CZ':'EUR', 'HN':'LTM', 'RO':'EUR', 'CL':'LTM', 'EE':'EUR', 'UA':'EUR', \n",
    "                   'NZ':'AUS', 'DK':'EUR', 'CN':'ASI', 'KE':'AFR', 'VN':'ASI', 'MX':'LTM', 'IE':'EUR', 'AS':'AME', 'MD':'EUR', 'SG':'ASI'}\n",
    "\n",
    "salaries.company_location = salaries.company_location.apply(lambda x: dictio_comp_loc[x])"
   ]
  },
  {
   "cell_type": "code",
   "execution_count": 18,
   "id": "589baa37",
   "metadata": {},
   "outputs": [],
   "source": [
    "dictio_cont_lab = {'LTM':0, 'AFR':1, 'ASI':2, 'EUR':3, 'AUS':4, 'AME':5}\n",
    "\n",
    "salaries.company_location = salaries.company_location.apply(lambda x: dictio_cont_lab[x])"
   ]
  },
  {
   "cell_type": "code",
   "execution_count": 19,
   "id": "0eca068d",
   "metadata": {},
   "outputs": [],
   "source": [
    "salaries = pd.get_dummies(salaries, columns = ['company_size'], drop_first = True)"
   ]
  },
  {
   "cell_type": "code",
   "execution_count": 20,
   "id": "125af9b4",
   "metadata": {},
   "outputs": [],
   "source": [
    "from sklearn.preprocessing import StandardScaler    \n",
    "\n",
    "data_num=pd.DataFrame(StandardScaler().fit_transform(salaries[['work_year', 'remote_ratio']]),\n",
    "                      \n",
    "                      columns= ['work_year', 'remote_ratio'])\n",
    "\n",
    "\n",
    "data_obj=salaries[['job_title', 'company_size_M', 'company_size_S', 'salary_in_usd', 'experience_level', 'employment_type', 'salary_currency', 'company_location']]\n",
    "\n",
    "data=pd.concat([data_num, data_obj], axis=1)"
   ]
  },
  {
   "cell_type": "code",
   "execution_count": 21,
   "id": "d64697bb",
   "metadata": {},
   "outputs": [],
   "source": [
    "X = data.drop(['salary_in_usd', 'salary_currency'], axis = 1)\n",
    "y = data.salary_in_usd"
   ]
  },
  {
   "cell_type": "code",
   "execution_count": 22,
   "id": "149b63c1",
   "metadata": {},
   "outputs": [],
   "source": [
    "from sklearn.model_selection import train_test_split as tts\n",
    "\n",
    "X_train, X_test, y_train, y_test = tts(X, y, train_size = 0.8)"
   ]
  },
  {
   "cell_type": "code",
   "execution_count": 23,
   "id": "bf5529c7",
   "metadata": {},
   "outputs": [
    {
     "name": "stderr",
     "output_type": "stream",
     "text": [
      "100%|███████████████████████████████████████████| 42/42 [00:03<00:00, 13.14it/s]\n"
     ]
    },
    {
     "data": {
      "text/plain": [
       "(                               Adjusted R-Squared  R-Squared      RMSE  \\\n",
       " Model                                                                    \n",
       " PoissonRegressor                             0.54       0.58  38106.06   \n",
       " RANSACRegressor                              0.47       0.51  41109.76   \n",
       " PassiveAggressiveRegressor                   0.44       0.49  42051.58   \n",
       " BayesianRidge                                0.44       0.49  42060.46   \n",
       " RidgeCV                                      0.44       0.49  42109.59   \n",
       " LassoLarsIC                                  0.44       0.49  42126.78   \n",
       " ElasticNet                                   0.44       0.49  42145.74   \n",
       " LassoCV                                      0.44       0.48  42174.68   \n",
       " LarsCV                                       0.44       0.48  42211.95   \n",
       " LassoLarsCV                                  0.44       0.48  42211.95   \n",
       " Ridge                                        0.44       0.48  42230.45   \n",
       " LassoLars                                    0.44       0.48  42238.49   \n",
       " Lasso                                        0.44       0.48  42244.85   \n",
       " LinearRegression                             0.44       0.48  42245.18   \n",
       " TransformedTargetRegressor                   0.44       0.48  42245.18   \n",
       " Lars                                         0.44       0.48  42245.18   \n",
       " SGDRegressor                                 0.44       0.48  42288.32   \n",
       " HuberRegressor                               0.44       0.48  42333.52   \n",
       " GammaRegressor                               0.42       0.47  42836.38   \n",
       " OrthogonalMatchingPursuit                    0.41       0.46  43251.19   \n",
       " GradientBoostingRegressor                    0.41       0.46  43375.63   \n",
       " LGBMRegressor                                0.41       0.45  43400.20   \n",
       " HistGradientBoostingRegressor                0.41       0.45  43452.17   \n",
       " TweedieRegressor                             0.40       0.45  43724.03   \n",
       " OrthogonalMatchingPursuitCV                  0.40       0.45  43768.75   \n",
       " KNeighborsRegressor                          0.39       0.44  44136.58   \n",
       " BaggingRegressor                             0.38       0.43  44285.81   \n",
       " AdaBoostRegressor                            0.37       0.42  44818.58   \n",
       " RandomForestRegressor                        0.36       0.41  44982.08   \n",
       " ExtraTreesRegressor                          0.29       0.35  47514.83   \n",
       " DecisionTreeRegressor                        0.28       0.33  47941.88   \n",
       " XGBRegressor                                 0.27       0.33  48127.94   \n",
       " GaussianProcessRegressor                     0.22       0.28  49799.04   \n",
       " ExtraTreeRegressor                          -0.01       0.07  56549.89   \n",
       " ElasticNetCV                                -0.06       0.03  57873.31   \n",
       " NuSVR                                       -0.09       0.00  58763.01   \n",
       " SVR                                         -0.09      -0.00  58798.38   \n",
       " QuantileRegressor                           -0.09      -0.00  58822.95   \n",
       " DummyRegressor                              -0.11      -0.02  59307.27   \n",
       " KernelRidge                                 -3.53      -3.16 119912.14   \n",
       " LinearSVR                                   -3.64      -3.27 121368.51   \n",
       " MLPRegressor                                -3.66      -3.29 121668.88   \n",
       " \n",
       "                                Time Taken  \n",
       " Model                                      \n",
       " PoissonRegressor                     0.01  \n",
       " RANSACRegressor                      0.08  \n",
       " PassiveAggressiveRegressor           0.03  \n",
       " BayesianRidge                        0.01  \n",
       " RidgeCV                              0.01  \n",
       " LassoLarsIC                          0.01  \n",
       " ElasticNet                           0.01  \n",
       " LassoCV                              0.08  \n",
       " LarsCV                               0.03  \n",
       " LassoLarsCV                          0.02  \n",
       " Ridge                                0.01  \n",
       " LassoLars                            0.01  \n",
       " Lasso                                0.01  \n",
       " LinearRegression                     0.01  \n",
       " TransformedTargetRegressor           0.01  \n",
       " Lars                                 0.02  \n",
       " SGDRegressor                         0.01  \n",
       " HuberRegressor                       0.03  \n",
       " GammaRegressor                       0.01  \n",
       " OrthogonalMatchingPursuit            0.01  \n",
       " GradientBoostingRegressor            0.05  \n",
       " LGBMRegressor                        0.05  \n",
       " HistGradientBoostingRegressor        0.24  \n",
       " TweedieRegressor                     0.01  \n",
       " OrthogonalMatchingPursuitCV          0.02  \n",
       " KNeighborsRegressor                  0.03  \n",
       " BaggingRegressor                     0.03  \n",
       " AdaBoostRegressor                    0.06  \n",
       " RandomForestRegressor                0.15  \n",
       " ExtraTreesRegressor                  0.12  \n",
       " DecisionTreeRegressor                0.01  \n",
       " XGBRegressor                         0.07  \n",
       " GaussianProcessRegressor             0.02  \n",
       " ExtraTreeRegressor                   0.01  \n",
       " ElasticNetCV                         0.07  \n",
       " NuSVR                                0.02  \n",
       " SVR                                  0.03  \n",
       " QuantileRegressor                    1.29  \n",
       " DummyRegressor                       0.01  \n",
       " KernelRidge                          0.02  \n",
       " LinearSVR                            0.01  \n",
       " MLPRegressor                         0.38  ,\n",
       "                                Adjusted R-Squared  R-Squared      RMSE  \\\n",
       " Model                                                                    \n",
       " PoissonRegressor                             0.54       0.58  38106.06   \n",
       " RANSACRegressor                              0.47       0.51  41109.76   \n",
       " PassiveAggressiveRegressor                   0.44       0.49  42051.58   \n",
       " BayesianRidge                                0.44       0.49  42060.46   \n",
       " RidgeCV                                      0.44       0.49  42109.59   \n",
       " LassoLarsIC                                  0.44       0.49  42126.78   \n",
       " ElasticNet                                   0.44       0.49  42145.74   \n",
       " LassoCV                                      0.44       0.48  42174.68   \n",
       " LarsCV                                       0.44       0.48  42211.95   \n",
       " LassoLarsCV                                  0.44       0.48  42211.95   \n",
       " Ridge                                        0.44       0.48  42230.45   \n",
       " LassoLars                                    0.44       0.48  42238.49   \n",
       " Lasso                                        0.44       0.48  42244.85   \n",
       " LinearRegression                             0.44       0.48  42245.18   \n",
       " TransformedTargetRegressor                   0.44       0.48  42245.18   \n",
       " Lars                                         0.44       0.48  42245.18   \n",
       " SGDRegressor                                 0.44       0.48  42288.32   \n",
       " HuberRegressor                               0.44       0.48  42333.52   \n",
       " GammaRegressor                               0.42       0.47  42836.38   \n",
       " OrthogonalMatchingPursuit                    0.41       0.46  43251.19   \n",
       " GradientBoostingRegressor                    0.41       0.46  43375.63   \n",
       " LGBMRegressor                                0.41       0.45  43400.20   \n",
       " HistGradientBoostingRegressor                0.41       0.45  43452.17   \n",
       " TweedieRegressor                             0.40       0.45  43724.03   \n",
       " OrthogonalMatchingPursuitCV                  0.40       0.45  43768.75   \n",
       " KNeighborsRegressor                          0.39       0.44  44136.58   \n",
       " BaggingRegressor                             0.38       0.43  44285.81   \n",
       " AdaBoostRegressor                            0.37       0.42  44818.58   \n",
       " RandomForestRegressor                        0.36       0.41  44982.08   \n",
       " ExtraTreesRegressor                          0.29       0.35  47514.83   \n",
       " DecisionTreeRegressor                        0.28       0.33  47941.88   \n",
       " XGBRegressor                                 0.27       0.33  48127.94   \n",
       " GaussianProcessRegressor                     0.22       0.28  49799.04   \n",
       " ExtraTreeRegressor                          -0.01       0.07  56549.89   \n",
       " ElasticNetCV                                -0.06       0.03  57873.31   \n",
       " NuSVR                                       -0.09       0.00  58763.01   \n",
       " SVR                                         -0.09      -0.00  58798.38   \n",
       " QuantileRegressor                           -0.09      -0.00  58822.95   \n",
       " DummyRegressor                              -0.11      -0.02  59307.27   \n",
       " KernelRidge                                 -3.53      -3.16 119912.14   \n",
       " LinearSVR                                   -3.64      -3.27 121368.51   \n",
       " MLPRegressor                                -3.66      -3.29 121668.88   \n",
       " \n",
       "                                Time Taken  \n",
       " Model                                      \n",
       " PoissonRegressor                     0.01  \n",
       " RANSACRegressor                      0.08  \n",
       " PassiveAggressiveRegressor           0.03  \n",
       " BayesianRidge                        0.01  \n",
       " RidgeCV                              0.01  \n",
       " LassoLarsIC                          0.01  \n",
       " ElasticNet                           0.01  \n",
       " LassoCV                              0.08  \n",
       " LarsCV                               0.03  \n",
       " LassoLarsCV                          0.02  \n",
       " Ridge                                0.01  \n",
       " LassoLars                            0.01  \n",
       " Lasso                                0.01  \n",
       " LinearRegression                     0.01  \n",
       " TransformedTargetRegressor           0.01  \n",
       " Lars                                 0.02  \n",
       " SGDRegressor                         0.01  \n",
       " HuberRegressor                       0.03  \n",
       " GammaRegressor                       0.01  \n",
       " OrthogonalMatchingPursuit            0.01  \n",
       " GradientBoostingRegressor            0.05  \n",
       " LGBMRegressor                        0.05  \n",
       " HistGradientBoostingRegressor        0.24  \n",
       " TweedieRegressor                     0.01  \n",
       " OrthogonalMatchingPursuitCV          0.02  \n",
       " KNeighborsRegressor                  0.03  \n",
       " BaggingRegressor                     0.03  \n",
       " AdaBoostRegressor                    0.06  \n",
       " RandomForestRegressor                0.15  \n",
       " ExtraTreesRegressor                  0.12  \n",
       " DecisionTreeRegressor                0.01  \n",
       " XGBRegressor                         0.07  \n",
       " GaussianProcessRegressor             0.02  \n",
       " ExtraTreeRegressor                   0.01  \n",
       " ElasticNetCV                         0.07  \n",
       " NuSVR                                0.02  \n",
       " SVR                                  0.03  \n",
       " QuantileRegressor                    1.29  \n",
       " DummyRegressor                       0.01  \n",
       " KernelRidge                          0.02  \n",
       " LinearSVR                            0.01  \n",
       " MLPRegressor                         0.38  )"
      ]
     },
     "execution_count": 23,
     "metadata": {},
     "output_type": "execute_result"
    }
   ],
   "source": [
    "from lazypredict.Supervised import LazyRegressor \n",
    "\n",
    "lazy=LazyRegressor()\n",
    "lazy.fit(X_train, X_test, y_train, y_test)"
   ]
  },
  {
   "cell_type": "code",
   "execution_count": 24,
   "id": "da92e22c",
   "metadata": {},
   "outputs": [],
   "source": [
    "from sklearn.linear_model import LassoLarsIC  \n",
    "from sklearn.metrics import mean_squared_error as mse"
   ]
  },
  {
   "cell_type": "code",
   "execution_count": 25,
   "id": "089f40f1",
   "metadata": {},
   "outputs": [
    {
     "data": {
      "text/plain": [
       "LassoLarsIC()"
      ]
     },
     "execution_count": 25,
     "metadata": {},
     "output_type": "execute_result"
    }
   ],
   "source": [
    "lasso = LassoLarsIC()\n",
    "\n",
    "lasso.fit(X, y)"
   ]
  },
  {
   "cell_type": "code",
   "execution_count": 26,
   "id": "c215d315",
   "metadata": {},
   "outputs": [
    {
     "data": {
      "text/plain": [
       "100"
      ]
     },
     "execution_count": 26,
     "metadata": {},
     "output_type": "execute_result"
    }
   ],
   "source": [
    "len(lasso.predict(X_test))"
   ]
  },
  {
   "cell_type": "code",
   "execution_count": 27,
   "id": "101a6fed",
   "metadata": {},
   "outputs": [
    {
     "data": {
      "text/plain": [
       "41123.00737593255"
      ]
     },
     "execution_count": 27,
     "metadata": {},
     "output_type": "execute_result"
    }
   ],
   "source": [
    "y_pred = lasso.predict(X_test)\n",
    "\n",
    "mse(y_test, y_pred, squared = False)"
   ]
  },
  {
   "cell_type": "code",
   "execution_count": 28,
   "id": "4f8b66b8",
   "metadata": {},
   "outputs": [
    {
     "data": {
      "text/html": [
       "<div>\n",
       "<style scoped>\n",
       "    .dataframe tbody tr th:only-of-type {\n",
       "        vertical-align: middle;\n",
       "    }\n",
       "\n",
       "    .dataframe tbody tr th {\n",
       "        vertical-align: top;\n",
       "    }\n",
       "\n",
       "    .dataframe thead th {\n",
       "        text-align: right;\n",
       "    }\n",
       "</style>\n",
       "<table border=\"1\" class=\"dataframe\">\n",
       "  <thead>\n",
       "    <tr style=\"text-align: right;\">\n",
       "      <th></th>\n",
       "      <th>work_year</th>\n",
       "      <th>experience_level</th>\n",
       "      <th>employment_type</th>\n",
       "      <th>job_title</th>\n",
       "      <th>employee_residence</th>\n",
       "      <th>remote_ratio</th>\n",
       "      <th>company_location</th>\n",
       "      <th>company_size</th>\n",
       "    </tr>\n",
       "  </thead>\n",
       "  <tbody>\n",
       "    <tr>\n",
       "      <th>0</th>\n",
       "      <td>2020</td>\n",
       "      <td>SE</td>\n",
       "      <td>FT</td>\n",
       "      <td>Machine Learning Scientist</td>\n",
       "      <td>JP</td>\n",
       "      <td>0</td>\n",
       "      <td>JP</td>\n",
       "      <td>S</td>\n",
       "    </tr>\n",
       "    <tr>\n",
       "      <th>1</th>\n",
       "      <td>2020</td>\n",
       "      <td>MI</td>\n",
       "      <td>FT</td>\n",
       "      <td>Lead Data Analyst</td>\n",
       "      <td>US</td>\n",
       "      <td>100</td>\n",
       "      <td>US</td>\n",
       "      <td>L</td>\n",
       "    </tr>\n",
       "    <tr>\n",
       "      <th>2</th>\n",
       "      <td>2020</td>\n",
       "      <td>MI</td>\n",
       "      <td>FT</td>\n",
       "      <td>Data Analyst</td>\n",
       "      <td>US</td>\n",
       "      <td>100</td>\n",
       "      <td>US</td>\n",
       "      <td>L</td>\n",
       "    </tr>\n",
       "    <tr>\n",
       "      <th>3</th>\n",
       "      <td>2020</td>\n",
       "      <td>MI</td>\n",
       "      <td>FT</td>\n",
       "      <td>Machine Learning Engineer</td>\n",
       "      <td>CN</td>\n",
       "      <td>0</td>\n",
       "      <td>CN</td>\n",
       "      <td>M</td>\n",
       "    </tr>\n",
       "    <tr>\n",
       "      <th>4</th>\n",
       "      <td>2020</td>\n",
       "      <td>MI</td>\n",
       "      <td>FT</td>\n",
       "      <td>Product Data Analyst</td>\n",
       "      <td>IN</td>\n",
       "      <td>100</td>\n",
       "      <td>IN</td>\n",
       "      <td>L</td>\n",
       "    </tr>\n",
       "  </tbody>\n",
       "</table>\n",
       "</div>"
      ],
      "text/plain": [
       "   work_year experience_level employment_type                   job_title  \\\n",
       "0       2020               SE              FT  Machine Learning Scientist   \n",
       "1       2020               MI              FT           Lead Data Analyst   \n",
       "2       2020               MI              FT                Data Analyst   \n",
       "3       2020               MI              FT   Machine Learning Engineer   \n",
       "4       2020               MI              FT        Product Data Analyst   \n",
       "\n",
       "  employee_residence  remote_ratio company_location company_size  \n",
       "0                 JP             0               JP            S  \n",
       "1                 US           100               US            L  \n",
       "2                 US           100               US            L  \n",
       "3                 CN             0               CN            M  \n",
       "4                 IN           100               IN            L  "
      ]
     },
     "execution_count": 28,
     "metadata": {},
     "output_type": "execute_result"
    }
   ],
   "source": [
    "testeo.head()"
   ]
  },
  {
   "cell_type": "code",
   "execution_count": 29,
   "id": "83079b3f",
   "metadata": {},
   "outputs": [],
   "source": [
    "testeo.experience_level = testeo.experience_level.apply(lambda x: dictio[x])\n"
   ]
  },
  {
   "cell_type": "code",
   "execution_count": 30,
   "id": "cf855533",
   "metadata": {},
   "outputs": [],
   "source": [
    "testeo.employment_type = testeo.employment_type.apply(lambda x: dictio_typ[x])"
   ]
  },
  {
   "cell_type": "code",
   "execution_count": 31,
   "id": "23987022",
   "metadata": {},
   "outputs": [],
   "source": [
    "testeo.job_title = testeo.job_title.apply(job_title)\n",
    "testeo.job_title = testeo.job_title.apply(lambda x: dictio_title[x])"
   ]
  },
  {
   "cell_type": "code",
   "execution_count": 32,
   "id": "60200b1c",
   "metadata": {},
   "outputs": [],
   "source": [
    "testeo.drop('employee_residence', axis = 1, inplace = True)"
   ]
  },
  {
   "cell_type": "code",
   "execution_count": 33,
   "id": "289272a0",
   "metadata": {},
   "outputs": [
    {
     "data": {
      "text/plain": [
       "array(['JP', 'US', 'CN', 'IN', 'MX', 'FR', 'DK', 'IT', 'HR', 'DE', 'GB',\n",
       "       'CA', 'IQ', 'IL', 'RU', 'ES', 'CO', 'AT', 'BR', 'GR', 'CZ', 'PL',\n",
       "       'MY', 'AU'], dtype=object)"
      ]
     },
     "execution_count": 33,
     "metadata": {},
     "output_type": "execute_result"
    }
   ],
   "source": [
    "testeo.company_location.unique()"
   ]
  },
  {
   "cell_type": "code",
   "execution_count": 34,
   "id": "5f7bbfb2",
   "metadata": {},
   "outputs": [],
   "source": [
    "dictio_comp_loc_test = {'JP':'ASI', 'US':'AME', 'CN':'ASI', 'IN':'ASI', 'MX':'LTM', 'FR':'EUR', 'DK':'EUR', 'IT':'EUR', 'HR':'EUR', \n",
    "                        'DE':'EUR', 'GB':'EUR', 'CA':'AME', 'IQ':'ASI', 'IL':'ASI', 'RU':'EUR', 'ES':'EUR', 'CO':'LTM',\n",
    "                        'AT':'EUR', 'BR':'LTM', 'GR':'EUR', 'CZ':'EUR', 'PL':'EUR', 'MY':'ASI', 'AU':'AUS'}\n",
    "\n",
    "testeo.company_location = testeo.company_location.apply(lambda x: dictio_comp_loc_test[x])"
   ]
  },
  {
   "cell_type": "code",
   "execution_count": 35,
   "id": "69dfbaad",
   "metadata": {},
   "outputs": [],
   "source": [
    "testeo.company_location = testeo.company_location.apply(lambda x: dictio_cont_lab[x])"
   ]
  },
  {
   "cell_type": "code",
   "execution_count": 36,
   "id": "36eb554d",
   "metadata": {},
   "outputs": [],
   "source": [
    "testeo = pd.get_dummies(testeo, columns = ['company_size'], drop_first = True)"
   ]
  },
  {
   "cell_type": "code",
   "execution_count": 37,
   "id": "8a72c4ff",
   "metadata": {},
   "outputs": [],
   "source": [
    "from sklearn.preprocessing import StandardScaler    \n",
    "\n",
    "data_num=pd.DataFrame(StandardScaler().fit_transform(testeo[['work_year', 'remote_ratio']]),\n",
    "                      \n",
    "                      columns= ['work_year', 'remote_ratio'])\n",
    "\n",
    "\n",
    "data_obj=testeo[['job_title', 'company_size_M', 'company_size_S', 'experience_level', 'employment_type', 'company_location']]\n",
    "\n",
    "data_test=pd.concat([data_num, data_obj], axis=1)"
   ]
  },
  {
   "cell_type": "code",
   "execution_count": 38,
   "id": "63936eb1",
   "metadata": {
    "scrolled": true
   },
   "outputs": [
    {
     "data": {
      "text/html": [
       "<div>\n",
       "<style scoped>\n",
       "    .dataframe tbody tr th:only-of-type {\n",
       "        vertical-align: middle;\n",
       "    }\n",
       "\n",
       "    .dataframe tbody tr th {\n",
       "        vertical-align: top;\n",
       "    }\n",
       "\n",
       "    .dataframe thead th {\n",
       "        text-align: right;\n",
       "    }\n",
       "</style>\n",
       "<table border=\"1\" class=\"dataframe\">\n",
       "  <thead>\n",
       "    <tr style=\"text-align: right;\">\n",
       "      <th></th>\n",
       "      <th>work_year</th>\n",
       "      <th>remote_ratio</th>\n",
       "      <th>job_title</th>\n",
       "      <th>company_size_M</th>\n",
       "      <th>company_size_S</th>\n",
       "      <th>experience_level</th>\n",
       "      <th>employment_type</th>\n",
       "      <th>company_location</th>\n",
       "    </tr>\n",
       "  </thead>\n",
       "  <tbody>\n",
       "    <tr>\n",
       "      <th>0</th>\n",
       "      <td>-1.87</td>\n",
       "      <td>-1.61</td>\n",
       "      <td>0</td>\n",
       "      <td>0</td>\n",
       "      <td>1</td>\n",
       "      <td>2</td>\n",
       "      <td>2</td>\n",
       "      <td>2</td>\n",
       "    </tr>\n",
       "    <tr>\n",
       "      <th>1</th>\n",
       "      <td>-1.87</td>\n",
       "      <td>0.80</td>\n",
       "      <td>1</td>\n",
       "      <td>0</td>\n",
       "      <td>0</td>\n",
       "      <td>1</td>\n",
       "      <td>2</td>\n",
       "      <td>5</td>\n",
       "    </tr>\n",
       "    <tr>\n",
       "      <th>2</th>\n",
       "      <td>-1.87</td>\n",
       "      <td>0.80</td>\n",
       "      <td>0</td>\n",
       "      <td>0</td>\n",
       "      <td>0</td>\n",
       "      <td>1</td>\n",
       "      <td>2</td>\n",
       "      <td>5</td>\n",
       "    </tr>\n",
       "    <tr>\n",
       "      <th>3</th>\n",
       "      <td>-1.87</td>\n",
       "      <td>-1.61</td>\n",
       "      <td>0</td>\n",
       "      <td>1</td>\n",
       "      <td>0</td>\n",
       "      <td>1</td>\n",
       "      <td>2</td>\n",
       "      <td>2</td>\n",
       "    </tr>\n",
       "    <tr>\n",
       "      <th>4</th>\n",
       "      <td>-1.87</td>\n",
       "      <td>0.80</td>\n",
       "      <td>0</td>\n",
       "      <td>0</td>\n",
       "      <td>0</td>\n",
       "      <td>1</td>\n",
       "      <td>2</td>\n",
       "      <td>2</td>\n",
       "    </tr>\n",
       "  </tbody>\n",
       "</table>\n",
       "</div>"
      ],
      "text/plain": [
       "   work_year  remote_ratio  job_title  company_size_M  company_size_S  \\\n",
       "0      -1.87         -1.61          0               0               1   \n",
       "1      -1.87          0.80          1               0               0   \n",
       "2      -1.87          0.80          0               0               0   \n",
       "3      -1.87         -1.61          0               1               0   \n",
       "4      -1.87          0.80          0               0               0   \n",
       "\n",
       "   experience_level  employment_type  company_location  \n",
       "0                 2                2                 2  \n",
       "1                 1                2                 5  \n",
       "2                 1                2                 5  \n",
       "3                 1                2                 2  \n",
       "4                 1                2                 2  "
      ]
     },
     "execution_count": 38,
     "metadata": {},
     "output_type": "execute_result"
    }
   ],
   "source": [
    "data_test.head()"
   ]
  },
  {
   "cell_type": "code",
   "execution_count": 39,
   "id": "c0d03e8b",
   "metadata": {},
   "outputs": [
    {
     "data": {
      "text/html": [
       "<div>\n",
       "<style scoped>\n",
       "    .dataframe tbody tr th:only-of-type {\n",
       "        vertical-align: middle;\n",
       "    }\n",
       "\n",
       "    .dataframe tbody tr th {\n",
       "        vertical-align: top;\n",
       "    }\n",
       "\n",
       "    .dataframe thead th {\n",
       "        text-align: right;\n",
       "    }\n",
       "</style>\n",
       "<table border=\"1\" class=\"dataframe\">\n",
       "  <thead>\n",
       "    <tr style=\"text-align: right;\">\n",
       "      <th></th>\n",
       "      <th>work_year</th>\n",
       "      <th>remote_ratio</th>\n",
       "      <th>job_title</th>\n",
       "      <th>company_size_M</th>\n",
       "      <th>company_size_S</th>\n",
       "      <th>experience_level</th>\n",
       "      <th>employment_type</th>\n",
       "      <th>company_location</th>\n",
       "    </tr>\n",
       "  </thead>\n",
       "  <tbody>\n",
       "    <tr>\n",
       "      <th>197</th>\n",
       "      <td>0.86</td>\n",
       "      <td>-1.78</td>\n",
       "      <td>0</td>\n",
       "      <td>1</td>\n",
       "      <td>0</td>\n",
       "      <td>1</td>\n",
       "      <td>2</td>\n",
       "      <td>3</td>\n",
       "    </tr>\n",
       "    <tr>\n",
       "      <th>152</th>\n",
       "      <td>0.86</td>\n",
       "      <td>0.70</td>\n",
       "      <td>0</td>\n",
       "      <td>1</td>\n",
       "      <td>0</td>\n",
       "      <td>2</td>\n",
       "      <td>2</td>\n",
       "      <td>5</td>\n",
       "    </tr>\n",
       "    <tr>\n",
       "      <th>151</th>\n",
       "      <td>0.86</td>\n",
       "      <td>-1.78</td>\n",
       "      <td>0</td>\n",
       "      <td>1</td>\n",
       "      <td>0</td>\n",
       "      <td>0</td>\n",
       "      <td>2</td>\n",
       "      <td>5</td>\n",
       "    </tr>\n",
       "    <tr>\n",
       "      <th>290</th>\n",
       "      <td>0.86</td>\n",
       "      <td>0.70</td>\n",
       "      <td>1</td>\n",
       "      <td>1</td>\n",
       "      <td>0</td>\n",
       "      <td>2</td>\n",
       "      <td>2</td>\n",
       "      <td>5</td>\n",
       "    </tr>\n",
       "    <tr>\n",
       "      <th>99</th>\n",
       "      <td>0.86</td>\n",
       "      <td>0.70</td>\n",
       "      <td>0</td>\n",
       "      <td>1</td>\n",
       "      <td>0</td>\n",
       "      <td>2</td>\n",
       "      <td>2</td>\n",
       "      <td>5</td>\n",
       "    </tr>\n",
       "  </tbody>\n",
       "</table>\n",
       "</div>"
      ],
      "text/plain": [
       "     work_year  remote_ratio  job_title  company_size_M  company_size_S  \\\n",
       "197       0.86         -1.78          0               1               0   \n",
       "152       0.86          0.70          0               1               0   \n",
       "151       0.86         -1.78          0               1               0   \n",
       "290       0.86          0.70          1               1               0   \n",
       "99        0.86          0.70          0               1               0   \n",
       "\n",
       "     experience_level  employment_type  company_location  \n",
       "197                 1                2                 3  \n",
       "152                 2                2                 5  \n",
       "151                 0                2                 5  \n",
       "290                 2                2                 5  \n",
       "99                  2                2                 5  "
      ]
     },
     "execution_count": 39,
     "metadata": {},
     "output_type": "execute_result"
    }
   ],
   "source": [
    "X_test.head()"
   ]
  },
  {
   "cell_type": "code",
   "execution_count": 40,
   "id": "4c193556",
   "metadata": {},
   "outputs": [
    {
     "data": {
      "text/plain": [
       "83044.33723059668"
      ]
     },
     "execution_count": 40,
     "metadata": {},
     "output_type": "execute_result"
    }
   ],
   "source": [
    "y_test_pred = lasso.predict(data_test[:-7])\n",
    "\n",
    "mse(y_test, y_test_pred, squared = False)"
   ]
  },
  {
   "cell_type": "code",
   "execution_count": 41,
   "id": "e26b9658",
   "metadata": {},
   "outputs": [
    {
     "data": {
      "text/plain": [
       "(107, 8)"
      ]
     },
     "execution_count": 41,
     "metadata": {},
     "output_type": "execute_result"
    }
   ],
   "source": [
    "data_test.shape"
   ]
  },
  {
   "cell_type": "code",
   "execution_count": 42,
   "id": "559fadd7",
   "metadata": {},
   "outputs": [
    {
     "data": {
      "text/plain": [
       "(500, 10)"
      ]
     },
     "execution_count": 42,
     "metadata": {},
     "output_type": "execute_result"
    }
   ],
   "source": [
    "data.shape"
   ]
  },
  {
   "cell_type": "code",
   "execution_count": 43,
   "id": "082d14b4",
   "metadata": {},
   "outputs": [
    {
     "data": {
      "text/plain": [
       "(100, 8)"
      ]
     },
     "execution_count": 43,
     "metadata": {},
     "output_type": "execute_result"
    }
   ],
   "source": [
    "X_test.shape"
   ]
  },
  {
   "cell_type": "code",
   "execution_count": 44,
   "id": "7755c6e6",
   "metadata": {},
   "outputs": [
    {
     "data": {
      "text/plain": [
       "HistGradientBoostingRegressor()"
      ]
     },
     "execution_count": 44,
     "metadata": {},
     "output_type": "execute_result"
    }
   ],
   "source": [
    "from sklearn.ensemble import HistGradientBoostingRegressor\n",
    "\n",
    "hist = HistGradientBoostingRegressor()\n",
    "\n",
    "hist.fit(X, y)"
   ]
  },
  {
   "cell_type": "code",
   "execution_count": 45,
   "id": "a438a288",
   "metadata": {},
   "outputs": [],
   "source": [
    "pred = hist.predict(data_test)"
   ]
  },
  {
   "cell_type": "code",
   "execution_count": 46,
   "id": "36733443",
   "metadata": {},
   "outputs": [],
   "source": [
    "#muestra['salary_in_usd'] = pred"
   ]
  },
  {
   "cell_type": "code",
   "execution_count": 47,
   "id": "897bc928",
   "metadata": {},
   "outputs": [],
   "source": [
    "#muestra.to_csv('muestra(HGBR).csv', index = False)"
   ]
  },
  {
   "cell_type": "code",
   "execution_count": 48,
   "id": "c8558310",
   "metadata": {},
   "outputs": [],
   "source": [
    "from lightgbm import LGBMRegressor as LGBMR\n",
    "\n",
    "lgbmr = LGBMR()\n",
    "\n",
    "lgbmr.fit(X, y)\n",
    "\n",
    "pred_2 = lgbmr.predict(data_test)"
   ]
  },
  {
   "cell_type": "code",
   "execution_count": 49,
   "id": "003ae703",
   "metadata": {},
   "outputs": [],
   "source": [
    "#muestra['salary_in_usd'] = pred_2"
   ]
  },
  {
   "cell_type": "code",
   "execution_count": 50,
   "id": "4af93724",
   "metadata": {},
   "outputs": [],
   "source": [
    "#muestra.to_csv('muestra(LGBMR).csv', index = False)"
   ]
  },
  {
   "cell_type": "code",
   "execution_count": 52,
   "id": "2f29a526",
   "metadata": {},
   "outputs": [],
   "source": [
    "from sklearn.linear_model import PoissonRegressor\n",
    "\n",
    "\n",
    "poisson = PoissonRegressor()\n",
    "\n",
    "poisson.fit(X, y)\n",
    "\n",
    "pred_3 = poisson.predict(data_test)"
   ]
  },
  {
   "cell_type": "code",
   "execution_count": 53,
   "id": "1ecbd479",
   "metadata": {},
   "outputs": [
    {
     "data": {
      "text/html": [
       "<div>\n",
       "<style scoped>\n",
       "    .dataframe tbody tr th:only-of-type {\n",
       "        vertical-align: middle;\n",
       "    }\n",
       "\n",
       "    .dataframe tbody tr th {\n",
       "        vertical-align: top;\n",
       "    }\n",
       "\n",
       "    .dataframe thead th {\n",
       "        text-align: right;\n",
       "    }\n",
       "</style>\n",
       "<table border=\"1\" class=\"dataframe\">\n",
       "  <thead>\n",
       "    <tr style=\"text-align: right;\">\n",
       "      <th></th>\n",
       "      <th>id</th>\n",
       "      <th>salary_in_usd</th>\n",
       "    </tr>\n",
       "  </thead>\n",
       "  <tbody>\n",
       "    <tr>\n",
       "      <th>0</th>\n",
       "      <td>0</td>\n",
       "      <td>26352</td>\n",
       "    </tr>\n",
       "    <tr>\n",
       "      <th>1</th>\n",
       "      <td>1</td>\n",
       "      <td>40574</td>\n",
       "    </tr>\n",
       "    <tr>\n",
       "      <th>2</th>\n",
       "      <td>2</td>\n",
       "      <td>68759</td>\n",
       "    </tr>\n",
       "    <tr>\n",
       "      <th>3</th>\n",
       "      <td>3</td>\n",
       "      <td>74733</td>\n",
       "    </tr>\n",
       "    <tr>\n",
       "      <th>4</th>\n",
       "      <td>4</td>\n",
       "      <td>32611</td>\n",
       "    </tr>\n",
       "  </tbody>\n",
       "</table>\n",
       "</div>"
      ],
      "text/plain": [
       "   id  salary_in_usd\n",
       "0   0          26352\n",
       "1   1          40574\n",
       "2   2          68759\n",
       "3   3          74733\n",
       "4   4          32611"
      ]
     },
     "execution_count": 53,
     "metadata": {},
     "output_type": "execute_result"
    }
   ],
   "source": [
    "muestra.head()"
   ]
  },
  {
   "cell_type": "code",
   "execution_count": 54,
   "id": "8f871c99",
   "metadata": {},
   "outputs": [],
   "source": [
    "muestra['salary_in_usd'] = pred_3"
   ]
  },
  {
   "cell_type": "code",
   "execution_count": 55,
   "id": "9108c91e",
   "metadata": {
    "scrolled": true
   },
   "outputs": [
    {
     "data": {
      "text/html": [
       "<div>\n",
       "<style scoped>\n",
       "    .dataframe tbody tr th:only-of-type {\n",
       "        vertical-align: middle;\n",
       "    }\n",
       "\n",
       "    .dataframe tbody tr th {\n",
       "        vertical-align: top;\n",
       "    }\n",
       "\n",
       "    .dataframe thead th {\n",
       "        text-align: right;\n",
       "    }\n",
       "</style>\n",
       "<table border=\"1\" class=\"dataframe\">\n",
       "  <thead>\n",
       "    <tr style=\"text-align: right;\">\n",
       "      <th></th>\n",
       "      <th>id</th>\n",
       "      <th>salary_in_usd</th>\n",
       "    </tr>\n",
       "  </thead>\n",
       "  <tbody>\n",
       "    <tr>\n",
       "      <th>0</th>\n",
       "      <td>0</td>\n",
       "      <td>48017.54</td>\n",
       "    </tr>\n",
       "    <tr>\n",
       "      <th>1</th>\n",
       "      <td>1</td>\n",
       "      <td>159782.97</td>\n",
       "    </tr>\n",
       "    <tr>\n",
       "      <th>2</th>\n",
       "      <td>2</td>\n",
       "      <td>134671.43</td>\n",
       "    </tr>\n",
       "    <tr>\n",
       "      <th>3</th>\n",
       "      <td>3</td>\n",
       "      <td>43871.16</td>\n",
       "    </tr>\n",
       "    <tr>\n",
       "      <th>4</th>\n",
       "      <td>4</td>\n",
       "      <td>52212.62</td>\n",
       "    </tr>\n",
       "  </tbody>\n",
       "</table>\n",
       "</div>"
      ],
      "text/plain": [
       "   id  salary_in_usd\n",
       "0   0       48017.54\n",
       "1   1      159782.97\n",
       "2   2      134671.43\n",
       "3   3       43871.16\n",
       "4   4       52212.62"
      ]
     },
     "execution_count": 55,
     "metadata": {},
     "output_type": "execute_result"
    }
   ],
   "source": [
    "muestra.head()"
   ]
  },
  {
   "cell_type": "code",
   "execution_count": 56,
   "id": "d7bfd8ab",
   "metadata": {},
   "outputs": [],
   "source": [
    "muestra.to_csv('muestra(Poisson).csv', index = False)"
   ]
  },
  {
   "cell_type": "code",
   "execution_count": null,
   "id": "e21cf95b",
   "metadata": {},
   "outputs": [],
   "source": []
  },
  {
   "cell_type": "code",
   "execution_count": null,
   "id": "6ff968a1",
   "metadata": {},
   "outputs": [],
   "source": []
  }
 ],
 "metadata": {
  "kernelspec": {
   "display_name": "Python 3 (ipykernel)",
   "language": "python",
   "name": "python3"
  },
  "language_info": {
   "codemirror_mode": {
    "name": "ipython",
    "version": 3
   },
   "file_extension": ".py",
   "mimetype": "text/x-python",
   "name": "python",
   "nbconvert_exporter": "python",
   "pygments_lexer": "ipython3",
   "version": "3.9.13"
  }
 },
 "nbformat": 4,
 "nbformat_minor": 5
}
